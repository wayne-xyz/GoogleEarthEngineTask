{
 "cells": [
  {
   "cell_type": "markdown",
   "metadata": {},
   "source": [
    "# Image file collection \n",
    "python version -31.11.5"
   ]
  },
  {
   "cell_type": "markdown",
   "metadata": {},
   "source": [
    "## Run for authen"
   ]
  },
  {
   "cell_type": "code",
   "execution_count": 3,
   "metadata": {},
   "outputs": [
    {
     "data": {
      "text/html": [
       "\n",
       "            <style>\n",
       "                .geemap-dark {\n",
       "                    --jp-widgets-color: white;\n",
       "                    --jp-widgets-label-color: white;\n",
       "                    --jp-ui-font-color1: white;\n",
       "                    --jp-layout-color2: #454545;\n",
       "                    background-color: #383838;\n",
       "                }\n",
       "\n",
       "                .geemap-dark .jupyter-button {\n",
       "                    --jp-layout-color3: #383838;\n",
       "                }\n",
       "\n",
       "                .geemap-colab {\n",
       "                    background-color: var(--colab-primary-surface-color, white);\n",
       "                }\n",
       "\n",
       "                .geemap-colab .jupyter-button {\n",
       "                    --jp-layout-color3: var(--colab-primary-surface-color, white);\n",
       "                }\n",
       "            </style>\n",
       "            "
      ],
      "text/plain": [
       "<IPython.core.display.HTML object>"
      ]
     },
     "metadata": {},
     "output_type": "display_data"
    },
    {
     "data": {
      "text/html": [
       "<p>To authorize access needed by Earth Engine, open the following\n",
       "        URL in a web browser and follow the instructions:</p>\n",
       "        <p><a href=https://code.earthengine.google.com/client-auth?scopes=https%3A//www.googleapis.com/auth/earthengine%20https%3A//www.googleapis.com/auth/cloud-platform%20https%3A//www.googleapis.com/auth/devstorage.full_control&request_id=lPlXhpWL0LXKhoSrIEUKsKXz9aIuK5--TzwZFTi3YN4&tc=aJ1XX86NwUlEFKMBE64DGRW1DJrzsVT3Kex_fdFYGh8&cc=veiHvT4ksVV-2xCvKpo3Sg6Nql0mA4TFoorltL1IvpU>https://code.earthengine.google.com/client-auth?scopes=https%3A//www.googleapis.com/auth/earthengine%20https%3A//www.googleapis.com/auth/cloud-platform%20https%3A//www.googleapis.com/auth/devstorage.full_control&request_id=lPlXhpWL0LXKhoSrIEUKsKXz9aIuK5--TzwZFTi3YN4&tc=aJ1XX86NwUlEFKMBE64DGRW1DJrzsVT3Kex_fdFYGh8&cc=veiHvT4ksVV-2xCvKpo3Sg6Nql0mA4TFoorltL1IvpU</a></p>\n",
       "        <p>The authorization workflow will generate a code, which you should paste in the box below.</p>\n",
       "        "
      ],
      "text/plain": [
       "<IPython.core.display.HTML object>"
      ]
     },
     "metadata": {},
     "output_type": "display_data"
    },
    {
     "name": "stdout",
     "output_type": "stream",
     "text": [
      "\n",
      "Successfully saved authorization token.\n"
     ]
    }
   ],
   "source": [
    "import ee \n",
    "import geemap\n",
    "\n",
    "# Trigger the authentication flow.\n",
    "ee.Authenticate()\n",
    "\n",
    "# Initialize the library.\n",
    "ee.Initialize(project='ee-qinheyi')"
   ]
  },
  {
   "cell_type": "markdown",
   "metadata": {},
   "source": [
    "## Load map"
   ]
  },
  {
   "cell_type": "code",
   "execution_count": 7,
   "metadata": {},
   "outputs": [
    {
     "data": {
      "text/html": [
       "\n",
       "            <style>\n",
       "                .geemap-dark {\n",
       "                    --jp-widgets-color: white;\n",
       "                    --jp-widgets-label-color: white;\n",
       "                    --jp-ui-font-color1: white;\n",
       "                    --jp-layout-color2: #454545;\n",
       "                    background-color: #383838;\n",
       "                }\n",
       "\n",
       "                .geemap-dark .jupyter-button {\n",
       "                    --jp-layout-color3: #383838;\n",
       "                }\n",
       "\n",
       "                .geemap-colab {\n",
       "                    background-color: var(--colab-primary-surface-color, white);\n",
       "                }\n",
       "\n",
       "                .geemap-colab .jupyter-button {\n",
       "                    --jp-layout-color3: var(--colab-primary-surface-color, white);\n",
       "                }\n",
       "            </style>\n",
       "            "
      ],
      "text/plain": [
       "<IPython.core.display.HTML object>"
      ]
     },
     "metadata": {},
     "output_type": "display_data"
    },
    {
     "data": {
      "application/vnd.jupyter.widget-view+json": {
       "model_id": "f55190f06c244557b03f5b7aa129e0d0",
       "version_major": 2,
       "version_minor": 0
      },
      "text/plain": [
       "Map(center=[-0.0013335310118573354, -73.54611700899127], controls=(WidgetControl(options=['position', 'transpa…"
      ]
     },
     "metadata": {},
     "output_type": "display_data"
    }
   ],
   "source": [
    "nicfi = ee.ImageCollection('projects/planet-nicfi/assets/basemaps/americas')\n",
    "\n",
    "m=geemap.Map()\n",
    "\n",
    "\n",
    "def getDateRange(imageCollection:ee.ImageCollection):\n",
    "    dateRange=imageCollection.aggregate_array('system:time_start')\n",
    "    date_list=[ee.Date(date).format().getInfo() for date in dateRange.getInfo()]\n",
    "    print(date_list)\n",
    "    return date_list\n",
    "\n",
    "# imageRange=getDateRange(nicfi) # because of the server-side function.\n",
    "\n",
    "baseMap=nicfi.filter(ee.Filter.date('2024-01-01','2025-01-11')).sort('system:time_start', False).first()\n",
    "\n",
    "m.centerObject(baseMap,4)\n",
    "\n",
    "vis={'bands':['R','G','B'],'min':64,'max':5454,'gamma':1.8}\n",
    "m.addLayer(baseMap,vis,'nicfi')\n",
    "m.height='800px'\n",
    "m.width='50%'\n",
    "display(m)\n"
   ]
  },
  {
   "cell_type": "markdown",
   "metadata": {},
   "source": [
    "## Add shape file and show one\n"
   ]
  },
  {
   "cell_type": "code",
   "execution_count": 9,
   "metadata": {},
   "outputs": [
    {
     "data": {
      "text/html": [
       "\n",
       "            <style>\n",
       "                .geemap-dark {\n",
       "                    --jp-widgets-color: white;\n",
       "                    --jp-widgets-label-color: white;\n",
       "                    --jp-ui-font-color1: white;\n",
       "                    --jp-layout-color2: #454545;\n",
       "                    background-color: #383838;\n",
       "                }\n",
       "\n",
       "                .geemap-dark .jupyter-button {\n",
       "                    --jp-layout-color3: #383838;\n",
       "                }\n",
       "\n",
       "                .geemap-colab {\n",
       "                    background-color: var(--colab-primary-surface-color, white);\n",
       "                }\n",
       "\n",
       "                .geemap-colab .jupyter-button {\n",
       "                    --jp-layout-color3: var(--colab-primary-surface-color, white);\n",
       "                }\n",
       "            </style>\n",
       "            "
      ],
      "text/plain": [
       "<IPython.core.display.HTML object>"
      ]
     },
     "metadata": {},
     "output_type": "display_data"
    },
    {
     "name": "stdout",
     "output_type": "stream",
     "text": [
      "Count of table item: 1823\n"
     ]
    }
   ],
   "source": [
    "# get the table directly from my projcet\n",
    "shapefile_table=ee.FeatureCollection('projects/ee-qinheyi/assets/1823_ADRSM')\n",
    "print('Count of table item:',shapefile_table.size().getInfo())\n",
    "# getInfo function is a request from the google servers it's server-side function and getback to the result.\n",
    "\n",
    "shape_style={\n",
    "  'color': 'FF0000',  # Outline color (in hex format, here it's red)\n",
    "  'width': 2,          # Outline width\n",
    "  'fillColor':'00000000'\n",
    "}\n",
    "\n",
    "field_name='Index'\n",
    "desired_value=346\n",
    "filtered_table=shapefile_table.filter(ee.Filter.eq(field_name,desired_value))\n",
    "selected_geometry=filtered_table.geometry()\n",
    "\n",
    "\n",
    "selected_fc = filtered_table.style( # this is a image type\n",
    "    color='FF0000',width=2,fillColor='00000000',\n",
    ")\n",
    "\n",
    "m.addLayer(selected_fc,{},'Selected Geometry')\n",
    "m.centerObject(selected_geometry)\n"
   ]
  },
  {
   "cell_type": "markdown",
   "metadata": {},
   "source": [
    "## get the wdiget Screenshot by `ipywebrtc`"
   ]
  },
  {
   "cell_type": "code",
   "execution_count": null,
   "metadata": {},
   "outputs": [],
   "source": [
    "from ipywebrtc import WidgetStream,ImageRecorder\n",
    "\n",
    "map_stream = WidgetStream(widget=m, max_fps=1) # the widgetStream can only on the local machine. if on the colab it can be no view rendered.\n",
    "map_stream"
   ]
  }
 ],
 "metadata": {
  "kernelspec": {
   "display_name": "base",
   "language": "python",
   "name": "python3"
  },
  "language_info": {
   "codemirror_mode": {
    "name": "ipython",
    "version": 3
   },
   "file_extension": ".py",
   "mimetype": "text/x-python",
   "name": "python",
   "nbconvert_exporter": "python",
   "pygments_lexer": "ipython3",
   "version": "3.11.5"
  }
 },
 "nbformat": 4,
 "nbformat_minor": 2
}
