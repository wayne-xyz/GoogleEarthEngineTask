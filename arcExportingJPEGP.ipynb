{
 "cells": [
  {
   "cell_type": "markdown",
   "metadata": {},
   "source": [
    "# Description\n",
    "This note book is using Google earth engine, Arcpy, ArcGIS pro to exporting jpg files."
   ]
  },
  {
   "cell_type": "code",
   "execution_count": null,
   "metadata": {},
   "outputs": [],
   "source": [
    "# Using the arcgis pro notebook to run the code\n",
    "# try import jpg from arcgis\n",
    "\n",
    "import arcpy\n",
    "\n",
    "# return selected count of feature class\n",
    "arcpy.GetCount_management(\"1823_ADRSM\") # if selected 1 it will return 1\n"
   ]
  },
  {
   "cell_type": "code",
   "execution_count": null,
   "metadata": {},
   "outputs": [],
   "source": [
    "# add gee into arcgispro\n",
    "\n",
    "import ee\n",
    "import geemap\n",
    "\n",
    "\n",
    "# Trigger the authentication flow.\n",
    "ee.Authenticate()\n",
    "\n",
    "# Initialize the library.\n",
    "ee.Initialize(project='ee-qinheyi')"
   ]
  },
  {
   "cell_type": "code",
   "execution_count": null,
   "metadata": {},
   "outputs": [],
   "source": [
    "nicfi = ee.ImageCollection('projects/planet-nicfi/assets/basemaps/americas')\n",
    "\n",
    "m=geemap.Map()\n",
    "\n",
    "\n",
    "def getDateRange(imageCollection:ee.ImageCollection):\n",
    "    dateRange=imageCollection.aggregate_array('system:time_start')\n",
    "    date_list=[ee.Date(date).format().getInfo() for date in dateRange.getInfo()]\n",
    "    print(date_list)\n",
    "    return date_list\n",
    "\n",
    "# imageRange=getDateRange(nicfi) # because of the server-side function.\n",
    "\n",
    "baseMap=nicfi.filter(ee.Filter.date('2024-01-01','2025-01-11')).sort('system:time_start', False).first()\n",
    "\n",
    "# m.centerObject(baseMap,4)\n",
    "\n",
    "vis={'bands':['R','G','B'],'min':64,'max':5454,'gamma':1.8}\n",
    "m.addLayer(baseMap,vis,'nicfi')\n",
    "m.height='800px'\n",
    "\n",
    "display(m)"
   ]
  },
  {
   "cell_type": "code",
   "execution_count": null,
   "metadata": {},
   "outputs": [],
   "source": [
    "#get the project and layout\n",
    "\n",
    "current_project=arcpy.mp.ArcGISProject(\"CURRENT\")\n",
    "layout=current_project.listLayouts()[1]  # 0 is the dataframe drive layout(text,area) # 1 is the \n",
    "print(\"current layout name:\",layout.name)\n"
   ]
  },
  {
   "cell_type": "code",
   "execution_count": null,
   "metadata": {},
   "outputs": [],
   "source": [
    "# get the certain shape of shapefile  and iterate the shapefile\n",
    "# handl the mv , do not effect the layout \n",
    "import time \n",
    "start_time = time.time()\n",
    "\n",
    "fc = \"1823_ADRSM\"\n",
    "fields = ['DEN_BOT','AREA_M2','Index',\"SHAPE@\" ]\n",
    "\n",
    "#get the mapframe in the layout\n",
    "mf= layout.listElements(\"MAPFRAME_ELEMENT\")[0]\n",
    "path=r\"C:\\Users\\lycaz\\Desktop\\JPEGS_Index2\"\n",
    "\n",
    "# get he m, mv\n",
    "amap=current_project.listMaps()[0]\n",
    "mv=amap.defaultView\n",
    "\n",
    "\n",
    "with arcpy.da.SearchCursor(fc, fields) as cursor:\n",
    "    for row in cursor:\n",
    "        #print(u'{0}, {1},{2}'.format(row[2],row[0], row[1]))\n",
    "        print(f\"Processing index {row[2]} {row[0]}\", end=\"\\r\")\n",
    "        #if row[2] == 1124:\n",
    "        geometry=row[3]\n",
    "        mv.camera.setExtent(geometry.extent)\n",
    "        amap.defaultCamera=mv.camera\n",
    "        amap.defaultCamera.scale*=1.5\n",
    "        mf.camera.setExtent(amap.defaultCamera.getExtent())\n",
    "        mf.camera.scale*=1.3\n",
    "        layout.exportToJPEG(f\"{path}\\\\{str(row[2])}.jpg\",resolution=300)\n",
    "    print('\\n')\n",
    "    print(\"Complete all the image\")\n",
    "\n",
    "stop_time = time.time()\n",
    "elapsed_time = stop_time - start_time\n",
    "\n",
    "print(f\"Start time: {time.ctime(start_time)}\")\n",
    "print(f\"Stop time: {time.ctime(stop_time)}\")\n",
    "print(f\"Elapsed time: {elapsed_time:.2f} seconds\")"
   ]
  }
 ],
 "metadata": {
  "kernelspec": {
   "display_name": "Python 3",
   "language": "python",
   "name": "python3"
  },
  "language_info": {
   "codemirror_mode": {
    "name": "ipython",
    "version": 3
   },
   "file_extension": ".py",
   "mimetype": "text/x-python",
   "name": "python",
   "nbconvert_exporter": "python",
   "pygments_lexer": "ipython3",
   "version": "3.9.18"
  }
 },
 "nbformat": 4,
 "nbformat_minor": 2
}
