{
 "cells": [
  {
   "cell_type": "markdown",
   "metadata": {},
   "source": [
    "# Preparing the target tif for the machine learning"
   ]
  },
  {
   "cell_type": "markdown",
   "metadata": {},
   "source": [
    "### Check the tif files in the folder\n",
    "\n",
    "Description of the fils in the folder\n",
    "- Folder : dev_test\n",
    "- Two type of tif : nicfi and sentinel\n",
    "- File name format\n",
    " - nicfi :  xxxx-YYYY-MM-nicfi.tif   xxxx means the index from 1 digit to 4 digits\n",
    " - sentinel : xxxx-YYYYMMDD-sentinel.tif xxxx means the index from 1 digit to 4 digits\n",
    "\n",
    "- index: the index means they shared same index number index \n"
   ]
  },
  {
   "cell_type": "code",
   "execution_count": 5,
   "metadata": {},
   "outputs": [
    {
     "name": "stdout",
     "output_type": "stream",
     "text": [
      " Month  Count of Nicfi Image  Count of Sentinel Image\n",
      "2024-3                  1212                     3636\n",
      "2024-4                  1212                     3636\n",
      "2024-5                  1212                     3636\n"
     ]
    }
   ],
   "source": [
    "### Check the tif files in the folder\n",
    "\n",
    "# Folder : dev_test\n",
    "# Two type of tif : nicfi and sentinel\n",
    "# File name format \n",
    "# - nicfi :  xxxx-YYYY-MM-nicfi.tif  xxxx means the index from 1 digit to 4 digits\n",
    "# - sentinel : xxxx-YYYYMMDD-sentinel.tif xxxx means the index from 1 digit to 4 digits\n",
    "# index: the index means they shared same index number index\n",
    "\n",
    "import os\n",
    "import re\n",
    "import pandas as pd\n",
    "\n",
    "# set the path to the folder\n",
    "folder_path = r'G:\\GithubProject\\GoogleEarthEngineTask\\Tif_ML\\dev_test'\n",
    "\n",
    "# get the list of files in the folder\n",
    "list_of_files = os.listdir(folder_path)\n",
    "\n",
    "# create two empty lists to store the file names\n",
    "list_of_nicfi = []\n",
    "list_of_sentinel = []\n",
    "\n",
    "# loop through the files and separate the two types of tif files\n",
    "for file in list_of_files:\n",
    "    if re.search(r'nicfi.tif$', file):\n",
    "        list_of_nicfi.append(file)\n",
    "    elif re.search(r'sentinel.tif$', file):\n",
    "        list_of_sentinel.append(file)\n",
    "\n",
    "# create two empty lists to store the months\n",
    "list_of_nicfi_months = []\n",
    "list_of_sentinel_months = []\n",
    "\n",
    "# loop through the files and extract the months\n",
    "for file in list_of_nicfi:\n",
    "    match = re.search(r'-(\\d{4})-(\\d{2})-', file)\n",
    "    if match:\n",
    "        year, month = match.groups()\n",
    "        list_of_nicfi_months.append(f\"{year}-{int(month)}\")\n",
    "\n",
    "for file in list_of_sentinel:\n",
    "    match = re.search(r'-(\\d{4})(\\d{2})\\d{2}-', file)\n",
    "    if match:\n",
    "        year, month = match.groups()\n",
    "        list_of_sentinel_months.append(f\"{year}-{int(month)}\")\n",
    "\n",
    "# create a dataframe with the months and the count of each type of tif files\n",
    "all_months = sorted(set(list_of_nicfi_months + list_of_sentinel_months))\n",
    "df = pd.DataFrame({\n",
    "    'Month': all_months,\n",
    "    'Count of Nicfi Image': [list_of_nicfi_months.count(x) for x in all_months],\n",
    "    'Count of Sentinel Image': [list_of_sentinel_months.count(x) for x in all_months]\n",
    "})\n",
    "\n",
    "# print the dataframe\n",
    "print(df.to_string(index=False))\n"
   ]
  },
  {
   "cell_type": "code",
   "execution_count": 4,
   "metadata": {},
   "outputs": [
    {
     "name": "stdout",
     "output_type": "stream",
     "text": [
      "Kept 14544 files\n",
      "Removed 7152 files\n"
     ]
    }
   ],
   "source": [
    "# remove all the files which the date are not the 2024 03 or 2024 04 or 2024 05, which means only the the 3 month data in the folder could be kept and both the nicfi and sentinel files are kept\n",
    "def filter_tif_files(folder_path):\n",
    "    \"\"\"\n",
    "    Remove TIF files that are not from March, April, or May 2024.\n",
    "    Handles both NICFI (xxxx-YYYY-MM-nicfi.tif) and Sentinel (xxxx-YYYYMMDD-sentinel.tif) formats.\n",
    "    \n",
    "    Args:\n",
    "        folder_path (str): Path to the folder containing TIF files\n",
    "        \n",
    "    Returns:\n",
    "        tuple: (num_kept, num_removed) - Count of files kept and removed\n",
    "    \"\"\"\n",
    "    kept = 0\n",
    "    removed = 0\n",
    "    \n",
    "    for file in os.listdir(folder_path):\n",
    "        should_keep = False\n",
    "        \n",
    "        if 'nicfi.tif' in file:\n",
    "            # Handle NICFI format: xxxx-YYYY-MM-nicfi.tif\n",
    "            match = re.search(r'-(\\d{4})-(\\d{2})-', file)\n",
    "            if match:\n",
    "                year, month = match.groups()\n",
    "                should_keep = (year == '2024' and month in ['03', '04', '05'])\n",
    "                \n",
    "        elif 'sentinel.tif' in file:\n",
    "            # Handle Sentinel format: xxxx-YYYYMMDD-sentinel.tif\n",
    "            match = re.search(r'-(\\d{4})(\\d{2})\\d{2}-', file)\n",
    "            if match:\n",
    "                year, month = match.groups()\n",
    "                should_keep = (year == '2024' and month in ['03', '04', '05'])\n",
    "        \n",
    "        if not should_keep:\n",
    "            os.remove(os.path.join(folder_path, file))\n",
    "            removed += 1\n",
    "        else:\n",
    "            kept += 1\n",
    "                    \n",
    "    return kept, removed\n",
    "\n",
    "# Example usage:\n",
    "folder_path = r'G:\\GithubProject\\GoogleEarthEngineTask\\Tif_ML\\dev_test'\n",
    "kept, removed = filter_tif_files(folder_path)\n",
    "print(f\"Kept {kept} files\")\n",
    "print(f\"Removed {removed} files\")\n",
    "\n",
    "\n",
    "\n"
   ]
  },
  {
   "cell_type": "markdown",
   "metadata": {},
   "source": [
    "## Show the shape file 's attribute in table "
   ]
  },
  {
   "cell_type": "code",
   "execution_count": 10,
   "metadata": {},
   "outputs": [
    {
     "name": "stdout",
     "output_type": "stream",
     "text": [
      "Shapefile attributes:\n",
      "- LATITUDE\n",
      "- LONGITUDE\n",
      "- BRIGHTNESS\n",
      "- SCAN\n",
      "- TRACK\n",
      "- ACQ_DATE\n",
      "- ACQ_TIME\n",
      "- SATELLITE\n",
      "- INSTRUMENT\n",
      "- CONFIDENCE\n",
      "- VERSION\n",
      "- BRIGHT_T31\n",
      "- FRP\n",
      "- DAYNIGHT\n",
      "- geometry\n",
      "\n",
      "First few rows of the data:\n",
      "   LATITUDE  LONGITUDE  BRIGHTNESS  SCAN  TRACK   ACQ_DATE ACQ_TIME SATELLITE  \\\n",
      "0  -8.02880  -79.04613       338.5  0.47   0.64 2020-01-01     1924       N20   \n",
      "1  -8.02713  -79.04623       338.0  0.47   0.64 2020-01-01     1924       N20   \n",
      "2  -8.02687  -79.04878       335.3  0.40   0.37 2020-01-03     1848       N20   \n",
      "3 -17.95334  -70.24676       296.3  0.39   0.36 2020-01-04     0554       N20   \n",
      "4  -8.02684  -79.04642       336.8  0.45   0.39 2020-01-08     1854       N20   \n",
      "\n",
      "  INSTRUMENT CONFIDENCE VERSION  BRIGHT_T31  FRP DAYNIGHT  \\\n",
      "0      VIIRS          n  2.0NRT       294.1  2.1        D   \n",
      "1      VIIRS          n  2.0NRT       294.4  2.4        D   \n",
      "2      VIIRS          n  2.0NRT       296.1  2.3        D   \n",
      "3      VIIRS          n  2.0NRT       280.4  0.5        N   \n",
      "4      VIIRS          n  2.0NRT       304.7  2.4        D   \n",
      "\n",
      "                      geometry  \n",
      "0    POINT (-79.04613 -8.0288)  \n",
      "1   POINT (-79.04623 -8.02713)  \n",
      "2   POINT (-79.04878 -8.02687)  \n",
      "3  POINT (-70.24676 -17.95334)  \n",
      "4   POINT (-79.04642 -8.02684)  \n"
     ]
    }
   ],
   "source": [
    "# show the attribute of the shape file print the name and of the table \n",
    "\n",
    "import geopandas as gpd\n",
    "J1V_Clip_Shapefile = 'J1V_Clip/fire_nrt_J1VC2_536460_clip.shp'\n",
    "\n",
    "# print the table's name \n",
    "\n",
    "\n",
    "gdf = gpd.read_file(J1V_Clip_Shapefile)\n",
    "\n",
    "# Display the column names (attributes)\n",
    "print(\"Shapefile attributes:\")\n",
    "for col in gdf.columns:\n",
    "    print(f\"- {col}\")\n",
    "\n",
    "# Optional: Display the first few rows to see the data\n",
    "print(\"\\nFirst few rows of the data:\")\n",
    "print(gdf.head())\n",
    "\n"
   ]
  },
  {
   "cell_type": "markdown",
   "metadata": {},
   "source": [
    "## Generate the target tif from the cliped shape and cross with the nicfi tif range\n",
    "\n",
    "\n",
    "### Generate the target tif \n",
    "\n",
    "Requriments:\n",
    "- Original tif image folder: G:\\GithubProject\\GoogleEarthEngineTask\\Tif_ML\\dev_test\n",
    "- Two parameters input: tif file and the shapefile \n",
    "- One output : the target tif in the target folder: G:\\GithubProject\\GoogleEarthEngineTask\\Tif_ML\\target\n",
    "\n",
    "- Rule : \n",
    "  - the tif files name's format xxxx-YYYY-MM-nicfi.tif  xxxx means the index from 1 digit to 4 digits contains the time information\n",
    "  - the shapefile's attribute have ACQ_DATE is the date of the point data in the shapefile \n",
    "  - overlap the shapefile and the tif image and get the points \n",
    "  - check the ACQ_DATE of the point data if it match the tif file name then keep , collect all the points overlap the tif range and have same date YYYY-MM is same then do next\n",
    "  - all the points bu buffer by 100 meter radius to generate the new tif file , the pixels value is the BRIGHTNESS  of acordding to  point \n",
    "\n",
    "\n"
   ]
  },
  {
   "cell_type": "markdown",
   "metadata": {},
   "source": []
  }
 ],
 "metadata": {
  "kernelspec": {
   "display_name": "base",
   "language": "python",
   "name": "python3"
  },
  "language_info": {
   "codemirror_mode": {
    "name": "ipython",
    "version": 3
   },
   "file_extension": ".py",
   "mimetype": "text/x-python",
   "name": "python",
   "nbconvert_exporter": "python",
   "pygments_lexer": "ipython3",
   "version": "3.11.5"
  }
 },
 "nbformat": 4,
 "nbformat_minor": 2
}
