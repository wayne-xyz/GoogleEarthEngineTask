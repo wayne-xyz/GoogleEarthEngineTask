{
 "cells": [
  {
   "cell_type": "markdown",
   "metadata": {},
   "source": [
    "# GeoTif Training\n",
    "- Pick index for tring\n",
    "- Convert the nasa data to lable tif"
   ]
  },
  {
   "cell_type": "markdown",
   "metadata": {},
   "source": [
    "### Preparing the data \n",
    "- target index list\n",
    "- check the data count for each index\n",
    "- check the shapefile\n",
    "- show the nasa points on map\n",
    "\n"
   ]
  },
  {
   "cell_type": "code",
   "execution_count": 1,
   "metadata": {},
   "outputs": [],
   "source": [
    "index_list=[581,1806,1212,1189,438,489,782]\n",
    "\n",
    "tif_folder_path=r'G:\\GithubProject\\GoogleEarthEngineTask\\Tif_Trainning\\tif'\n",
    "J1V_shapefile_path=r'G:\\GithubProject\\GoogleEarthEngineTask\\Tif_Trainning\\nasa_data\\J1V\\fire_nrt_J1V-C2_536460.shp'\n",
    "\n",
    "Target_DP_shapefile_path=r'G:\\GithubProject\\GoogleEarthEngineTask\\Tif_Trainning\\Target_DP_shape\\c1212_ADRSM_T.shp'"
   ]
  },
  {
   "cell_type": "code",
   "execution_count": 2,
   "metadata": {},
   "outputs": [
    {
     "name": "stdout",
     "output_type": "stream",
     "text": [
      "index 581 has 42 tif files\n",
      "index 1806 has 42 tif files\n",
      "index 1212 has 42 tif files\n",
      "index 1189 has 42 tif files\n",
      "index 438 has 42 tif files\n",
      "index 489 has 42 tif files\n",
      "index 782 has 42 tif files\n"
     ]
    }
   ],
   "source": [
    "import os\n",
    "\n",
    "def check_tif_data(index_list,tif_path):\n",
    "    # count the tif file number for files start with index\n",
    "    for index in index_list:\n",
    "        tif_file_list=os.listdir(tif_path)\n",
    "        tif_file_list=[file for file in tif_file_list if file.startswith(str(index))]\n",
    "        print(f'index {index} has {len(tif_file_list)} tif files')\n",
    "\n",
    "check_tif_data(index_list,tif_folder_path)\n"
   ]
  },
  {
   "cell_type": "code",
   "execution_count": 5,
   "metadata": {},
   "outputs": [],
   "source": [
    "import rasterio\n",
    "from rasterio.plot import show\n",
    "import numpy as np\n",
    "import matplotlib.pyplot as plt\n",
    "import leafmap\n",
    "import geopandas as gpd\n",
    "\n",
    "def show_tif_image_rgb(source_type, file_path):\n",
    "    if source_type == 'nicfi':\n",
    "        # read the tif file\n",
    "        tif_file = rasterio.open(file_path)\n",
    "        \n",
    "        # read RGB bands\n",
    "        blue = tif_file.read(1).astype(float)\n",
    "        green = tif_file.read(2).astype(float)\n",
    "        red = tif_file.read(3).astype(float)\n",
    "        \n",
    "        def normalize_nicfi(band):\n",
    "            # Clip values to GEE visualization range\n",
    "            band = np.clip(band, 64, 5454)  # Match GEE min/max values\n",
    "            # Normalize to 0-1 range based on the visualization parameters\n",
    "            band = (band - 64) / (5454 - 64)\n",
    "            return band\n",
    "        \n",
    "        red = normalize_nicfi(red)\n",
    "        green = normalize_nicfi(green)\n",
    "        blue = normalize_nicfi(blue)\n",
    "        \n",
    "        # stack bands into RGB image\n",
    "        rgb = np.dstack((red, green, blue))\n",
    "        \n",
    "        # Apply gamma correction matching GEE\n",
    "        gamma = 1.8  # Same gamma as GEE\n",
    "        rgb = np.power(rgb, 1/gamma)\n",
    "        \n",
    "        # get filename for title\n",
    "        title = os.path.basename(file_path)\n",
    "        \n",
    "        # display image\n",
    "        plt.figure(figsize=(4,4))\n",
    "        plt.imshow(rgb)\n",
    "        plt.title(title)\n",
    "        plt.axis('off')\n",
    "        plt.show()\n",
    "\n",
    "\n",
    "def display_shapefile_on_map(shapefile_path):\n",
    "    \"\"\"\n",
    "    Loads a shapefile and displays it on an interactive map.\n",
    "\n",
    "    Parameters:\n",
    "    shapefile_path (str): The file path to the shapefile.\n",
    "\n",
    "    Returns:\n",
    "    leafmap.Map: An interactive map with the shapefile overlay.\n",
    "    \"\"\"\n",
    "    # Load the shapefile as a GeoDataFrame\n",
    "    gdf = gpd.read_file(shapefile_path)\n",
    "    \n",
    "    red_style = {\n",
    "        'color': 'red',  # outline color\n",
    "        'fillOpacity': 0.1,  # transparency of fill\n",
    "        'weight': 2  # line thickness\n",
    "    }\n",
    "    # Calculate the centroid for map centering\n",
    "    map_center = [gdf.geometry.centroid.y.mean(), gdf.geometry.centroid.x.mean()]\n",
    "    \n",
    "    # Create an interactive map centered on the shapefile area\n",
    "    m = leafmap.Map(center=map_center, zoom=10)\n",
    "    \n",
    "    # Get the filename without extension to use as layer name\n",
    "    layer_name = os.path.splitext(os.path.basename(shapefile_path))[0]\n",
    "    \n",
    "    # Add the shapefile as a layer with filename as layer name\n",
    "    m.add_gdf(gdf, layer_name=layer_name, style=red_style)\n",
    "\n",
    "    # Add the shapefile as a layer\n",
    "    m.add_gdf(gdf, layer_name=\"Shapefile Layer\",style=red_style)\n",
    "    \n",
    "    # Optionally, add a satellite basemap\n",
    "    m.add_basemap(\"SATELLITE\")\n",
    "\n",
    "    return m"
   ]
  },
  {
   "cell_type": "code",
   "execution_count": null,
   "metadata": {},
   "outputs": [],
   "source": [
    "# show the each image from the index list\n",
    "for index in index_list:\n",
    "    file_path=os.path.join(tif_folder_path,f'{index}-2021-04-nicfi.tif')\n",
    "    show_tif_image_rgb('nicfi',file_path)\n",
    "\n"
   ]
  },
  {
   "cell_type": "code",
   "execution_count": 8,
   "metadata": {},
   "outputs": [
    {
     "data": {
      "application/vnd.jupyter.widget-view+json": {
       "model_id": "c007535b95b4475f99c66a4ba8235d06",
       "version_major": 2,
       "version_minor": 0
      },
      "text/plain": [
       "Map(center=[-10.914215450970215, -75.32548261768909], controls=(ZoomControl(options=['position', 'zoom_in_text…"
      ]
     },
     "execution_count": 8,
     "metadata": {},
     "output_type": "execute_result"
    }
   ],
   "source": [
    "# show the points on tile map\n",
    "\n",
    "map_object = display_shapefile_on_map(Target_DP_shapefile_path)\n",
    "map_object"
   ]
  }
 ],
 "metadata": {
  "kernelspec": {
   "display_name": "Python 3",
   "language": "python",
   "name": "python3"
  },
  "language_info": {
   "codemirror_mode": {
    "name": "ipython",
    "version": 3
   },
   "file_extension": ".py",
   "mimetype": "text/x-python",
   "name": "python",
   "nbconvert_exporter": "python",
   "pygments_lexer": "ipython3",
   "version": "3.11.5"
  }
 },
 "nbformat": 4,
 "nbformat_minor": 2
}
